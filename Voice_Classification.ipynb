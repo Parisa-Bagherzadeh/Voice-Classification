{
  "cells": [
    {
      "cell_type": "code",
      "execution_count": 103,
      "metadata": {
        "id": "Q3h5DCHWQ3Rc"
      },
      "outputs": [],
      "source": [
        "import matplotlib.pyplot as plt\n",
        "\n",
        "import tensorflow as tf\n",
        "from tensorflow.keras.callbacks import ModelCheckpoint\n",
        "\n"
      ]
    },
    {
      "cell_type": "code",
      "execution_count": 104,
      "metadata": {
        "colab": {
          "base_uri": "https://localhost:8080/"
        },
        "id": "9CzJ3HuuRgFQ",
        "outputId": "761259f6-8999-4a49-e52e-ef0b35a4c8c2"
      },
      "outputs": [
        {
          "name": "stdout",
          "output_type": "stream",
          "text": [
            "Found 1376 files belonging to 17 classes.\n",
            "Using 1101 files for training.\n"
          ]
        }
      ],
      "source": [
        "dataset_path = 'dataset'\n",
        "\n",
        "train_data = tf.keras.utils.audio_dataset_from_directory(\n",
        "    dataset_path,\n",
        "    batch_size = 8,\n",
        "    shuffle = True,\n",
        "    validation_split = 0.2,\n",
        "    subset = \"training\",\n",
        "    output_sequence_length = 48000,\n",
        "    ragged = False,\n",
        "    label_mode = \"categorical\",\n",
        "    labels = \"inferred\",\n",
        "    sampling_rate = None,\n",
        "    seed = 59\n",
        ")"
      ]
    },
    {
      "cell_type": "code",
      "execution_count": 105,
      "metadata": {
        "colab": {
          "base_uri": "https://localhost:8080/"
        },
        "id": "bTAJOlYHWWV8",
        "outputId": "98875965-fc60-49ed-81a5-d3e3bdb133f1"
      },
      "outputs": [
        {
          "name": "stdout",
          "output_type": "stream",
          "text": [
            "Found 1376 files belonging to 17 classes.\n",
            "Using 275 files for validation.\n"
          ]
        }
      ],
      "source": [
        "validation_data = tf.keras.utils.audio_dataset_from_directory(\n",
        "    dataset_path,\n",
        "    batch_size = 8,\n",
        "    shuffle = True,\n",
        "    validation_split = 0.2,\n",
        "    subset = \"validation\",\n",
        "    output_sequence_length = 48000,\n",
        "    ragged = False,\n",
        "    label_mode = \"categorical\",\n",
        "    labels = \"inferred\",\n",
        "    sampling_rate = None,\n",
        "    seed = 59\n",
        ")"
      ]
    },
    {
      "cell_type": "code",
      "execution_count": 106,
      "metadata": {
        "id": "2SNDEsY0Z6kY"
      },
      "outputs": [],
      "source": [
        "model = tf.keras.models.Sequential([\n",
        "    tf.keras.layers.Conv1D(16, kernel_size = 80,strides = 16, activation = \"relu\", input_shape = (48000, 1)),\n",
        "    tf.keras.layers.MaxPooling1D(4),\n",
        "\n",
        "    tf.keras.layers.Conv1D(16, kernel_size = 3, activation = \"relu\"),\n",
        "    tf.keras.layers.BatchNormalization(),\n",
        "    tf.keras.layers.MaxPooling1D(4),\n",
        "\n",
        "    tf.keras.layers.Conv1D(16, kernel_size = 3,activation = \"relu\"),\n",
        "    tf.keras.layers.MaxPooling1D(4),\n",
        "\n",
        "    tf.keras.layers.Conv1D(32, kernel_size = 3,activation = \"relu\"),\n",
        "    tf.keras.layers.MaxPooling1D(4),\n",
        "\n",
        "    tf.keras.layers.Conv1D(32, kernel_size = 3,activation = \"relu\"),\n",
        "    tf.keras.layers.MaxPooling1D(4),\n",
        "\n",
        "\n",
        "\n",
        "    tf.keras.layers.Flatten(),\n",
        "    tf.keras.layers.Dense(17, activation = \"softmax\")\n",
        "\n",
        "])"
      ]
    },
    {
      "cell_type": "code",
      "execution_count": 107,
      "metadata": {
        "colab": {
          "base_uri": "https://localhost:8080/"
        },
        "id": "eqLILbnnec_V",
        "outputId": "28230f5b-6f25-4d02-fd27-9f3352f1fb05"
      },
      "outputs": [
        {
          "name": "stdout",
          "output_type": "stream",
          "text": [
            "Model: \"sequential_20\"\n",
            "_________________________________________________________________\n",
            " Layer (type)                Output Shape              Param #   \n",
            "=================================================================\n",
            " conv1d_101 (Conv1D)         (None, 2996, 16)          1296      \n",
            "                                                                 \n",
            " max_pooling1d_101 (MaxPool  (None, 749, 16)           0         \n",
            " ing1D)                                                          \n",
            "                                                                 \n",
            " conv1d_102 (Conv1D)         (None, 747, 16)           784       \n",
            "                                                                 \n",
            " batch_normalization_15 (Ba  (None, 747, 16)           64        \n",
            " tchNormalization)                                               \n",
            "                                                                 \n",
            " max_pooling1d_102 (MaxPool  (None, 186, 16)           0         \n",
            " ing1D)                                                          \n",
            "                                                                 \n",
            " conv1d_103 (Conv1D)         (None, 184, 16)           784       \n",
            "                                                                 \n",
            " max_pooling1d_103 (MaxPool  (None, 46, 16)            0         \n",
            " ing1D)                                                          \n",
            "                                                                 \n",
            " conv1d_104 (Conv1D)         (None, 44, 32)            1568      \n",
            "                                                                 \n",
            " max_pooling1d_104 (MaxPool  (None, 11, 32)            0         \n",
            " ing1D)                                                          \n",
            "                                                                 \n",
            " conv1d_105 (Conv1D)         (None, 9, 32)             3104      \n",
            "                                                                 \n",
            " max_pooling1d_105 (MaxPool  (None, 2, 32)             0         \n",
            " ing1D)                                                          \n",
            "                                                                 \n",
            " flatten_20 (Flatten)        (None, 64)                0         \n",
            "                                                                 \n",
            " dense_20 (Dense)            (None, 17)                1105      \n",
            "                                                                 \n",
            "=================================================================\n",
            "Total params: 8705 (34.00 KB)\n",
            "Trainable params: 8673 (33.88 KB)\n",
            "Non-trainable params: 32 (128.00 Byte)\n",
            "_________________________________________________________________\n"
          ]
        }
      ],
      "source": [
        "model.summary()"
      ]
    },
    {
      "cell_type": "code",
      "execution_count": 108,
      "metadata": {
        "id": "AIM7rRupe7Lr"
      },
      "outputs": [],
      "source": [
        "model.compile(tf.keras.optimizers.Adam(learning_rate= 0.0001),\n",
        "              loss = \"categorical_crossentropy\",\n",
        "              metrics = [\"accuracy\"]\n",
        "              )"
      ]
    },
    {
      "cell_type": "code",
      "execution_count": 109,
      "metadata": {
        "id": "TjrwdnCSRbeV"
      },
      "outputs": [],
      "source": [
        "checkpoint_filepath = 'model/weights.h5'\n",
        "\n",
        "\n",
        "model_checkpoint_callback = ModelCheckpoint(\n",
        "    filepath=checkpoint_filepath,\n",
        "    monitor='val_accuracy',\n",
        "    mode='max',\n",
        "    save_best_only=True)"
      ]
    },
    {
      "cell_type": "code",
      "execution_count": 110,
      "metadata": {
        "colab": {
          "base_uri": "https://localhost:8080/"
        },
        "id": "Yy_zlzNSfPYY",
        "outputId": "7f15558d-5fbf-40da-a09c-ce0c72fd9ab8"
      },
      "outputs": [
        {
          "name": "stdout",
          "output_type": "stream",
          "text": [
            "Epoch 1/100\n",
            "138/138 [==============================] - 5s 21ms/step - loss: 2.8594 - accuracy: 0.0790 - val_loss: 2.8238 - val_accuracy: 0.0473\n",
            "Epoch 2/100\n",
            "138/138 [==============================] - 3s 21ms/step - loss: 2.7284 - accuracy: 0.0881 - val_loss: 2.8006 - val_accuracy: 0.0836\n",
            "Epoch 3/100\n",
            "138/138 [==============================] - 51s 371ms/step - loss: 2.6599 - accuracy: 0.0999 - val_loss: 2.7500 - val_accuracy: 0.1091\n",
            "Epoch 4/100\n",
            "138/138 [==============================] - 5s 34ms/step - loss: 2.5816 - accuracy: 0.1317 - val_loss: 2.6438 - val_accuracy: 0.1564\n",
            "Epoch 5/100\n",
            "138/138 [==============================] - 3s 21ms/step - loss: 2.4708 - accuracy: 0.1780 - val_loss: 2.4794 - val_accuracy: 0.1855\n",
            "Epoch 6/100\n",
            "138/138 [==============================] - 3s 19ms/step - loss: 2.3293 - accuracy: 0.2171 - val_loss: 2.3095 - val_accuracy: 0.2073\n",
            "Epoch 7/100\n",
            "138/138 [==============================] - 3s 18ms/step - loss: 2.1769 - accuracy: 0.2888 - val_loss: 2.1606 - val_accuracy: 0.2473\n",
            "Epoch 8/100\n",
            "138/138 [==============================] - 6s 42ms/step - loss: 2.0341 - accuracy: 0.3379 - val_loss: 2.0288 - val_accuracy: 0.3455\n",
            "Epoch 9/100\n",
            "138/138 [==============================] - 3s 20ms/step - loss: 1.8992 - accuracy: 0.3933 - val_loss: 1.9031 - val_accuracy: 0.3818\n",
            "Epoch 10/100\n",
            "138/138 [==============================] - 3s 19ms/step - loss: 1.7705 - accuracy: 0.4414 - val_loss: 1.7944 - val_accuracy: 0.4000\n",
            "Epoch 11/100\n",
            "138/138 [==============================] - 3s 19ms/step - loss: 1.6521 - accuracy: 0.4796 - val_loss: 1.6977 - val_accuracy: 0.4473\n",
            "Epoch 12/100\n",
            "138/138 [==============================] - 4s 31ms/step - loss: 1.5477 - accuracy: 0.5059 - val_loss: 1.5949 - val_accuracy: 0.4800\n",
            "Epoch 13/100\n",
            "138/138 [==============================] - 3s 24ms/step - loss: 1.4386 - accuracy: 0.5477 - val_loss: 1.5167 - val_accuracy: 0.4836\n",
            "Epoch 14/100\n",
            "138/138 [==============================] - 3s 20ms/step - loss: 1.3635 - accuracy: 0.5668 - val_loss: 1.4335 - val_accuracy: 0.5018\n",
            "Epoch 15/100\n",
            "138/138 [==============================] - 3s 19ms/step - loss: 1.2813 - accuracy: 0.5740 - val_loss: 1.3547 - val_accuracy: 0.5200\n",
            "Epoch 16/100\n",
            "138/138 [==============================] - 4s 25ms/step - loss: 1.2038 - accuracy: 0.6031 - val_loss: 1.3040 - val_accuracy: 0.5200\n",
            "Epoch 17/100\n",
            "138/138 [==============================] - 3s 22ms/step - loss: 1.1104 - accuracy: 0.6467 - val_loss: 1.2370 - val_accuracy: 0.5527\n",
            "Epoch 18/100\n",
            "138/138 [==============================] - 3s 21ms/step - loss: 1.0596 - accuracy: 0.6730 - val_loss: 1.1911 - val_accuracy: 0.5818\n",
            "Epoch 19/100\n",
            "138/138 [==============================] - 3s 22ms/step - loss: 1.0077 - accuracy: 0.6939 - val_loss: 1.1195 - val_accuracy: 0.6109\n",
            "Epoch 20/100\n",
            "138/138 [==============================] - 5s 33ms/step - loss: 0.9456 - accuracy: 0.7230 - val_loss: 1.0901 - val_accuracy: 0.6109\n",
            "Epoch 21/100\n",
            "138/138 [==============================] - 3s 21ms/step - loss: 0.9083 - accuracy: 0.7257 - val_loss: 1.0625 - val_accuracy: 0.6436\n",
            "Epoch 22/100\n",
            "138/138 [==============================] - 3s 22ms/step - loss: 0.8457 - accuracy: 0.7584 - val_loss: 1.0175 - val_accuracy: 0.6436\n",
            "Epoch 23/100\n",
            "138/138 [==============================] - 5s 34ms/step - loss: 0.8132 - accuracy: 0.7711 - val_loss: 0.9845 - val_accuracy: 0.6545\n",
            "Epoch 24/100\n",
            "138/138 [==============================] - 3s 21ms/step - loss: 0.7711 - accuracy: 0.7820 - val_loss: 0.9521 - val_accuracy: 0.6800\n",
            "Epoch 25/100\n",
            "138/138 [==============================] - 3s 20ms/step - loss: 0.7331 - accuracy: 0.7938 - val_loss: 0.9437 - val_accuracy: 0.6727\n",
            "Epoch 26/100\n",
            "138/138 [==============================] - 3s 20ms/step - loss: 0.6998 - accuracy: 0.8102 - val_loss: 0.8987 - val_accuracy: 0.6909\n",
            "Epoch 27/100\n",
            "138/138 [==============================] - 4s 29ms/step - loss: 0.6727 - accuracy: 0.8084 - val_loss: 0.8807 - val_accuracy: 0.7018\n",
            "Epoch 28/100\n",
            "138/138 [==============================] - 4s 27ms/step - loss: 0.6468 - accuracy: 0.8165 - val_loss: 0.8495 - val_accuracy: 0.7018\n",
            "Epoch 29/100\n",
            "138/138 [==============================] - 3s 20ms/step - loss: 0.6165 - accuracy: 0.8329 - val_loss: 0.8237 - val_accuracy: 0.7200\n",
            "Epoch 30/100\n",
            "138/138 [==============================] - 3s 22ms/step - loss: 0.5959 - accuracy: 0.8256 - val_loss: 0.7985 - val_accuracy: 0.7455\n",
            "Epoch 31/100\n",
            "138/138 [==============================] - 3s 22ms/step - loss: 0.5752 - accuracy: 0.8247 - val_loss: 0.7689 - val_accuracy: 0.7527\n",
            "Epoch 32/100\n",
            "138/138 [==============================] - 5s 36ms/step - loss: 0.5565 - accuracy: 0.8374 - val_loss: 0.7470 - val_accuracy: 0.7491\n",
            "Epoch 33/100\n",
            "138/138 [==============================] - 3s 20ms/step - loss: 0.5186 - accuracy: 0.8447 - val_loss: 0.7440 - val_accuracy: 0.7673\n",
            "Epoch 34/100\n",
            "138/138 [==============================] - 3s 20ms/step - loss: 0.4923 - accuracy: 0.8665 - val_loss: 0.7352 - val_accuracy: 0.7709\n",
            "Epoch 35/100\n",
            "138/138 [==============================] - 3s 24ms/step - loss: 0.4930 - accuracy: 0.8665 - val_loss: 0.7023 - val_accuracy: 0.7782\n",
            "Epoch 36/100\n",
            "138/138 [==============================] - 5s 33ms/step - loss: 0.4608 - accuracy: 0.8738 - val_loss: 0.6883 - val_accuracy: 0.7891\n",
            "Epoch 37/100\n",
            "138/138 [==============================] - 3s 20ms/step - loss: 0.4412 - accuracy: 0.8792 - val_loss: 0.7045 - val_accuracy: 0.7818\n",
            "Epoch 38/100\n",
            "138/138 [==============================] - 3s 20ms/step - loss: 0.4232 - accuracy: 0.8892 - val_loss: 0.6943 - val_accuracy: 0.7855\n",
            "Epoch 39/100\n",
            "138/138 [==============================] - 3s 22ms/step - loss: 0.4205 - accuracy: 0.8792 - val_loss: 0.6640 - val_accuracy: 0.7927\n",
            "Epoch 40/100\n",
            "138/138 [==============================] - 5s 34ms/step - loss: 0.3877 - accuracy: 0.8901 - val_loss: 0.6700 - val_accuracy: 0.7927\n",
            "Epoch 41/100\n",
            "138/138 [==============================] - 3s 21ms/step - loss: 0.3808 - accuracy: 0.9037 - val_loss: 0.6437 - val_accuracy: 0.7927\n",
            "Epoch 42/100\n",
            "138/138 [==============================] - 3s 21ms/step - loss: 0.3755 - accuracy: 0.9028 - val_loss: 0.6503 - val_accuracy: 0.7927\n",
            "Epoch 43/100\n",
            "138/138 [==============================] - 3s 19ms/step - loss: 0.3638 - accuracy: 0.9092 - val_loss: 0.6323 - val_accuracy: 0.8036\n",
            "Epoch 44/100\n",
            "138/138 [==============================] - 3s 23ms/step - loss: 0.3590 - accuracy: 0.9055 - val_loss: 0.6304 - val_accuracy: 0.8036\n",
            "Epoch 45/100\n",
            "138/138 [==============================] - 5s 32ms/step - loss: 0.3471 - accuracy: 0.9110 - val_loss: 0.6403 - val_accuracy: 0.8036\n",
            "Epoch 46/100\n",
            "138/138 [==============================] - 3s 19ms/step - loss: 0.3351 - accuracy: 0.9119 - val_loss: 0.6180 - val_accuracy: 0.8109\n",
            "Epoch 47/100\n",
            "138/138 [==============================] - 3s 22ms/step - loss: 0.3302 - accuracy: 0.9083 - val_loss: 0.6159 - val_accuracy: 0.8036\n",
            "Epoch 48/100\n",
            "138/138 [==============================] - 3s 20ms/step - loss: 0.3073 - accuracy: 0.9246 - val_loss: 0.6011 - val_accuracy: 0.8036\n",
            "Epoch 49/100\n",
            "138/138 [==============================] - 5s 34ms/step - loss: 0.3163 - accuracy: 0.9155 - val_loss: 0.6051 - val_accuracy: 0.8000\n",
            "Epoch 50/100\n",
            "138/138 [==============================] - 3s 21ms/step - loss: 0.2945 - accuracy: 0.9237 - val_loss: 0.5792 - val_accuracy: 0.8145\n",
            "Epoch 51/100\n",
            "138/138 [==============================] - 3s 19ms/step - loss: 0.2840 - accuracy: 0.9319 - val_loss: 0.5774 - val_accuracy: 0.8182\n",
            "Epoch 52/100\n",
            "138/138 [==============================] - 3s 20ms/step - loss: 0.2797 - accuracy: 0.9292 - val_loss: 0.5629 - val_accuracy: 0.8182\n",
            "Epoch 53/100\n",
            "138/138 [==============================] - 5s 36ms/step - loss: 0.2869 - accuracy: 0.9201 - val_loss: 0.5771 - val_accuracy: 0.8182\n",
            "Epoch 54/100\n",
            "138/138 [==============================] - 4s 26ms/step - loss: 0.2589 - accuracy: 0.9355 - val_loss: 0.5458 - val_accuracy: 0.8182\n",
            "Epoch 55/100\n",
            "138/138 [==============================] - 3s 21ms/step - loss: 0.2756 - accuracy: 0.9292 - val_loss: 0.5564 - val_accuracy: 0.8218\n",
            "Epoch 56/100\n",
            "138/138 [==============================] - 5s 37ms/step - loss: 0.2559 - accuracy: 0.9337 - val_loss: 0.5751 - val_accuracy: 0.8182\n",
            "Epoch 57/100\n",
            "138/138 [==============================] - 3s 19ms/step - loss: 0.2606 - accuracy: 0.9391 - val_loss: 0.5540 - val_accuracy: 0.8255\n",
            "Epoch 58/100\n",
            "138/138 [==============================] - 3s 20ms/step - loss: 0.2550 - accuracy: 0.9373 - val_loss: 0.5373 - val_accuracy: 0.8182\n",
            "Epoch 59/100\n",
            "138/138 [==============================] - 5s 32ms/step - loss: 0.2287 - accuracy: 0.9410 - val_loss: 0.5379 - val_accuracy: 0.8218\n",
            "Epoch 60/100\n",
            "138/138 [==============================] - 3s 19ms/step - loss: 0.2313 - accuracy: 0.9446 - val_loss: 0.5255 - val_accuracy: 0.8255\n",
            "Epoch 61/100\n",
            "138/138 [==============================] - 3s 20ms/step - loss: 0.2195 - accuracy: 0.9446 - val_loss: 0.5222 - val_accuracy: 0.8291\n",
            "Epoch 62/100\n",
            "138/138 [==============================] - 4s 27ms/step - loss: 0.2255 - accuracy: 0.9446 - val_loss: 0.5359 - val_accuracy: 0.8255\n",
            "Epoch 63/100\n",
            "138/138 [==============================] - 5s 32ms/step - loss: 0.2155 - accuracy: 0.9464 - val_loss: 0.5153 - val_accuracy: 0.8364\n",
            "Epoch 64/100\n",
            "138/138 [==============================] - 3s 20ms/step - loss: 0.2087 - accuracy: 0.9519 - val_loss: 0.5112 - val_accuracy: 0.8364\n",
            "Epoch 65/100\n",
            "138/138 [==============================] - 3s 22ms/step - loss: 0.2077 - accuracy: 0.9482 - val_loss: 0.5366 - val_accuracy: 0.8291\n",
            "Epoch 66/100\n",
            "138/138 [==============================] - 4s 26ms/step - loss: 0.1942 - accuracy: 0.9582 - val_loss: 0.5100 - val_accuracy: 0.8327\n",
            "Epoch 67/100\n",
            "138/138 [==============================] - 5s 32ms/step - loss: 0.1985 - accuracy: 0.9528 - val_loss: 0.5041 - val_accuracy: 0.8364\n",
            "Epoch 68/100\n",
            "138/138 [==============================] - 3s 20ms/step - loss: 0.2009 - accuracy: 0.9491 - val_loss: 0.5045 - val_accuracy: 0.8255\n",
            "Epoch 69/100\n",
            "138/138 [==============================] - 3s 20ms/step - loss: 0.1862 - accuracy: 0.9546 - val_loss: 0.5034 - val_accuracy: 0.8327\n",
            "Epoch 70/100\n",
            "138/138 [==============================] - 3s 21ms/step - loss: 0.1825 - accuracy: 0.9564 - val_loss: 0.4946 - val_accuracy: 0.8364\n",
            "Epoch 71/100\n",
            "138/138 [==============================] - 4s 26ms/step - loss: 0.1822 - accuracy: 0.9591 - val_loss: 0.4987 - val_accuracy: 0.8218\n",
            "Epoch 72/100\n",
            "138/138 [==============================] - 3s 20ms/step - loss: 0.1814 - accuracy: 0.9582 - val_loss: 0.5507 - val_accuracy: 0.8255\n",
            "Epoch 73/100\n",
            "138/138 [==============================] - 3s 21ms/step - loss: 0.1795 - accuracy: 0.9564 - val_loss: 0.5244 - val_accuracy: 0.8255\n",
            "Epoch 74/100\n",
            "138/138 [==============================] - 3s 21ms/step - loss: 0.1693 - accuracy: 0.9600 - val_loss: 0.5211 - val_accuracy: 0.8364\n",
            "Epoch 75/100\n",
            "138/138 [==============================] - 5s 38ms/step - loss: 0.1648 - accuracy: 0.9655 - val_loss: 0.5150 - val_accuracy: 0.8327\n",
            "Epoch 76/100\n",
            "138/138 [==============================] - 3s 19ms/step - loss: 0.1681 - accuracy: 0.9646 - val_loss: 0.5066 - val_accuracy: 0.8327\n",
            "Epoch 77/100\n",
            "138/138 [==============================] - 3s 20ms/step - loss: 0.1658 - accuracy: 0.9609 - val_loss: 0.4887 - val_accuracy: 0.8364\n",
            "Epoch 78/100\n",
            "138/138 [==============================] - 4s 31ms/step - loss: 0.1613 - accuracy: 0.9609 - val_loss: 0.5251 - val_accuracy: 0.8327\n",
            "Epoch 79/100\n",
            "138/138 [==============================] - 3s 20ms/step - loss: 0.1473 - accuracy: 0.9682 - val_loss: 0.5284 - val_accuracy: 0.8400\n",
            "Epoch 80/100\n",
            "138/138 [==============================] - 3s 19ms/step - loss: 0.1554 - accuracy: 0.9664 - val_loss: 0.5048 - val_accuracy: 0.8327\n",
            "Epoch 81/100\n",
            "138/138 [==============================] - 4s 31ms/step - loss: 0.1492 - accuracy: 0.9628 - val_loss: 0.4702 - val_accuracy: 0.8364\n",
            "Epoch 82/100\n",
            "138/138 [==============================] - 3s 21ms/step - loss: 0.1496 - accuracy: 0.9619 - val_loss: 0.5064 - val_accuracy: 0.8364\n",
            "Epoch 83/100\n",
            "138/138 [==============================] - 3s 18ms/step - loss: 0.1451 - accuracy: 0.9700 - val_loss: 0.4847 - val_accuracy: 0.8436\n",
            "Epoch 84/100\n",
            "138/138 [==============================] - 3s 19ms/step - loss: 0.1388 - accuracy: 0.9709 - val_loss: 0.4919 - val_accuracy: 0.8400\n",
            "Epoch 85/100\n",
            "138/138 [==============================] - 3s 19ms/step - loss: 0.1387 - accuracy: 0.9700 - val_loss: 0.4907 - val_accuracy: 0.8436\n",
            "Epoch 86/100\n",
            "138/138 [==============================] - 3s 20ms/step - loss: 0.1403 - accuracy: 0.9682 - val_loss: 0.4815 - val_accuracy: 0.8327\n",
            "Epoch 87/100\n",
            "138/138 [==============================] - 3s 20ms/step - loss: 0.1376 - accuracy: 0.9673 - val_loss: 0.4751 - val_accuracy: 0.8327\n",
            "Epoch 88/100\n",
            "138/138 [==============================] - 3s 20ms/step - loss: 0.1315 - accuracy: 0.9709 - val_loss: 0.4665 - val_accuracy: 0.8436\n",
            "Epoch 89/100\n",
            "138/138 [==============================] - 5s 35ms/step - loss: 0.1292 - accuracy: 0.9700 - val_loss: 0.4989 - val_accuracy: 0.8436\n",
            "Epoch 90/100\n",
            "138/138 [==============================] - 3s 18ms/step - loss: 0.1300 - accuracy: 0.9709 - val_loss: 0.4766 - val_accuracy: 0.8400\n",
            "Epoch 91/100\n",
            "138/138 [==============================] - 3s 20ms/step - loss: 0.1223 - accuracy: 0.9746 - val_loss: 0.4857 - val_accuracy: 0.8400\n",
            "Epoch 92/100\n",
            "138/138 [==============================] - 3s 19ms/step - loss: 0.1241 - accuracy: 0.9718 - val_loss: 0.4858 - val_accuracy: 0.8400\n",
            "Epoch 93/100\n",
            "138/138 [==============================] - 4s 25ms/step - loss: 0.1209 - accuracy: 0.9764 - val_loss: 0.4744 - val_accuracy: 0.8400\n",
            "Epoch 94/100\n",
            "138/138 [==============================] - 4s 29ms/step - loss: 0.1256 - accuracy: 0.9709 - val_loss: 0.4857 - val_accuracy: 0.8364\n",
            "Epoch 95/100\n",
            "138/138 [==============================] - 3s 20ms/step - loss: 0.1214 - accuracy: 0.9737 - val_loss: 0.4709 - val_accuracy: 0.8364\n",
            "Epoch 96/100\n",
            "138/138 [==============================] - 3s 21ms/step - loss: 0.1263 - accuracy: 0.9755 - val_loss: 0.4664 - val_accuracy: 0.8545\n",
            "Epoch 97/100\n",
            "138/138 [==============================] - 4s 31ms/step - loss: 0.1214 - accuracy: 0.9691 - val_loss: 0.4622 - val_accuracy: 0.8473\n",
            "Epoch 98/100\n",
            "138/138 [==============================] - 3s 21ms/step - loss: 0.1152 - accuracy: 0.9682 - val_loss: 0.4857 - val_accuracy: 0.8582\n",
            "Epoch 99/100\n",
            "138/138 [==============================] - 3s 22ms/step - loss: 0.1086 - accuracy: 0.9764 - val_loss: 0.4905 - val_accuracy: 0.8509\n",
            "Epoch 100/100\n",
            "138/138 [==============================] - 4s 26ms/step - loss: 0.1082 - accuracy: 0.9737 - val_loss: 0.4743 - val_accuracy: 0.8436\n"
          ]
        }
      ],
      "source": [
        "output = model.fit(train_data,\n",
        "          validation_data = validation_data,\n",
        "          epochs = 100,\n",
        "          callbacks=[model_checkpoint_callback])"
      ]
    },
    {
      "cell_type": "code",
      "execution_count": 111,
      "metadata": {
        "colab": {
          "base_uri": "https://localhost:8080/",
          "height": 472
        },
        "id": "E70o-0bdeP_7",
        "outputId": "fb818efd-9aac-4c93-f7a1-82f6e6dffc42"
      },
      "outputs": [
        {
          "data": {
            "image/png": "[encoded data removed]",
            "text/plain": [
              "<Figure size 640x480 with 1 Axes>"
            ]
          },
          "metadata": {},
          "output_type": "display_data"
        }
      ],
      "source": [
        "plt.plot(output.history['loss'])\n",
        "plt.plot(output.history['accuracy'])\n",
        "plt.xlabel('epoch')\n",
        "plt.legend(['loss', 'accuracy'], loc='upper right')\n",
        "plt.title('Loss and accuracy')\n",
        "plt.show()"
      ]
    }
  ],
  "metadata": {
    "accelerator": "GPU",
    "colab": {
      "gpuType": "T4",
      "provenance": []
    },
    "kernelspec": {
      "display_name": "Python 3",
      "name": "python3"
    },
    "language_info": {
      "name": "python",
      "version": "3.8.9"
    }
  },
  "nbformat": 4,
  "nbformat_minor": 0
}
